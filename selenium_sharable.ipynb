{
 "cells": [
  {
   "cell_type": "code",
   "execution_count": 1,
   "id": "b9a2d800-1429-4130-b669-56ee2b20a75c",
   "metadata": {},
   "outputs": [],
   "source": [
    "from selenium import webdriver\n",
    "from selenium.webdriver.chrome.service import Service\n",
    "from selenium.webdriver.support.ui import WebDriverWait\n",
    "from selenium.webdriver.support import expected_conditions as EC\n",
    "from selenium.common.exceptions import TimeoutException\n",
    "from selenium.webdriver.common.by import By\n",
    "from webdriver_manager.chrome import ChromeDriverManager\n",
    "\n",
    "# set up a new Selenium driver\n",
    "from bs4 import BeautifulSoup\n",
    "\n",
    "import os\n",
    "import time\n",
    "import numpy as np\n",
    "import pandas as pd"
   ]
  },
  {
   "cell_type": "code",
   "execution_count": 15,
   "id": "2052e725-f9e7-4345-a975-f7dc5cc95aa4",
   "metadata": {},
   "outputs": [],
   "source": [
    "# define the username of the profile to scrape and generate its URL\n",
    "class Scraper():\n",
    "    # load the URL in the Selenium driver\n",
    "    def __init__(self):\n",
    "        '''\n",
    "        Initialize\n",
    "        '''\n",
    "        self.start_driver()\n",
    "        try:\n",
    "            os.mkdir('Timelines')\n",
    "        except FileExistsError:\n",
    "            print('Timelines Folder Exists')\n",
    "    \n",
    "    def start_driver(self):\n",
    "        '''\n",
    "        Start Driver\n",
    "        '''\n",
    "        self.driver = webdriver.Chrome(service=Service(ChromeDriverManager().install()))\n",
    "        self.driver.get(\"https://twitter.com/\")\n",
    "        print('Started Browser')\n",
    "\n",
    "    def get_page(self,username):\n",
    "        '''\n",
    "        Get Page\n",
    "        '''\n",
    "        self.username = username\n",
    "        URL = \"https://twitter.com/\" + username + \"?lang=en\"\n",
    "        self.driver.get(URL)\n",
    "        time.sleep(np.random.uniform(3,5))\n",
    "\n",
    "    def get_html(self):\n",
    "        html = self.driver.execute_script(\"return document.documentElement.outerHTML\")\n",
    "        soup = BeautifulSoup(html, 'html.parser')\n",
    "        self.page=soup.prettify()\n",
    "    \n",
    "    def write_file(self,write_string,filename='tempfile',dir_name=False,path=''):\n",
    "        if(dir_name!=False):\n",
    "            print('Making Directory')\n",
    "            try:\n",
    "                os.mkdir(path+dir_name)\n",
    "            except FileExistsError:\n",
    "                print('Directory Exists')\n",
    "        else:\n",
    "            dir_name=''\n",
    "        \n",
    "        full_filename=path+dir_name+'/'+filename+'.txt'\n",
    "        print('Writing to',full_filename)\n",
    "        text_file = open(full_filename, \"w\")\n",
    "        n = text_file.write(write_string)\n",
    "        text_file.close()\n",
    "    \n",
    "    def scroll(self):\n",
    "        SCROLL_PAUSE_TIME = np.random.uniform(3,8)\n",
    "\n",
    "        # Get scroll height\n",
    "        self.last_height = self.driver.execute_script(\"return document.body.scrollHeight\")\n",
    "\n",
    "        # Scroll down to bottom\n",
    "        self.driver.execute_script(\"window.scrollTo(0, document.body.scrollHeight);\")\n",
    "\n",
    "        # Wait to load page\n",
    "        time.sleep(SCROLL_PAUSE_TIME)\n",
    "\n",
    "        # Calculate new scroll height and compare with last scroll height\n",
    "        self.new_height = self.driver.execute_script(\"return document.body.scrollHeight\")\n",
    "        \n",
    "    def one_round(self):\n",
    "        self.scroll()\n",
    "        self.times_scrolled+=1\n",
    "        self.get_html()\n",
    "        self.write_file(write_string=self.page,filename='page_dump_'+str(self.times_scrolled),dir_name=self.username,path='Timelines/')\n",
    "        print(self.times_scrolled,'.')\n",
    "\n",
    "    \n",
    "    def scrape_username(self,username,n_scrolls=10):\n",
    "        self.get_page(username)\n",
    "        self.get_html()\n",
    "        self.times_scrolled=0\n",
    "        self.write_file(write_string=self.page,filename='page_dump_'+str(self.times_scrolled),dir_name=self.username,path='Timelines/')\n",
    "        self.driver.save_screenshot('Timelines/'+self.username+'/'+self.username+'.png')\n",
    "\n",
    "        self.not_scrolling=0\n",
    "        while(self.times_scrolled<n_scrolls):\n",
    "            self.one_round()\n",
    "            \n",
    "            if(self.last_height == self.new_height):#Stop Scrolling if its not moving forward\n",
    "                self.not_scrolling+=1\n",
    "                if(self.not_scrolling>1):\n",
    "                    break\n",
    "    \n",
    "        \n",
    "        \n",
    "        \n",
    "\n",
    "\n"
   ]
  },
  {
   "cell_type": "code",
   "execution_count": 14,
   "id": "395eb45a-3468-43bc-836b-06dc775783e9",
   "metadata": {},
   "outputs": [
    {
     "name": "stdout",
     "output_type": "stream",
     "text": [
      "Started Browser\n",
      "Timelines Folder Exists\n"
     ]
    }
   ],
   "source": [
    "S=Scraper()"
   ]
  },
  {
   "cell_type": "code",
   "execution_count": 1,
   "id": "e59c3e60-087e-4cbe-aa3a-2b32acf0fa1c",
   "metadata": {},
   "outputs": [],
   "source": [
    "#Now enter your username and password"
   ]
  },
  {
   "cell_type": "code",
   "execution_count": null,
   "id": "aad9fef5-0d41-4477-ac98-7df990d9719e",
   "metadata": {},
   "outputs": [],
   "source": [
    "handle=''\n",
    "S.scrape_username(handle)"
   ]
  }
 ],
 "metadata": {
  "kernelspec": {
   "display_name": "Python 3 (ipykernel)",
   "language": "python",
   "name": "python3"
  },
  "language_info": {
   "codemirror_mode": {
    "name": "ipython",
    "version": 3
   },
   "file_extension": ".py",
   "mimetype": "text/x-python",
   "name": "python",
   "nbconvert_exporter": "python",
   "pygments_lexer": "ipython3",
   "version": "3.9.12"
  }
 },
 "nbformat": 4,
 "nbformat_minor": 5
}
